{
 "cells": [
  {
   "cell_type": "code",
   "execution_count": 1,
   "metadata": {},
   "outputs": [],
   "source": [
    "from pdfminer.high_level import extract_text\n",
    "\n",
    "with open('/home/azashiro/Desktop/beetroot_task/task.pdf','rb') as file:\n",
    "    theses = extract_text(file)\n",
    "    t = \" \".join(theses.split())\n",
    "    plain_text = \"\".join(t)\n",
    "    #print(plain_text)"
   ]
  },
  {
   "cell_type": "code",
   "execution_count": 2,
   "metadata": {},
   "outputs": [],
   "source": [
    "import re\n",
    "\n",
    "text = re.sub(r'Poster abstracts\\s\\d', \"\", plain_text)\n",
    "text = re.sub(r'Poster abstractsActa Derm Venereol 2018\\s\\d+', \"\", text)\n",
    "text = re.sub(r'www.medicaljournals.se/acta5th World Psoriasis & Psoriatic Arthritis Conference 2018', '', text)\n",
    "text = re.sub(r'\\w-\\s', '', text)\n",
    "text = re.sub(r'\\xad', '', text)\n",
    "#print(text)"
   ]
  },
  {
   "cell_type": "code",
   "execution_count": 3,
   "metadata": {},
   "outputs": [],
   "source": [
    "pattern = re.compile(r\"(P\\d{3})\")\n",
    "text_list = []\n",
    "text_list = re.split(pattern, text)\n",
    "text_list.remove(text_list[0]) # remove page number\n",
    "#print(text_list)"
   ]
  },
  {
   "cell_type": "code",
   "execution_count": 4,
   "metadata": {},
   "outputs": [],
   "source": [
    "def convert_text_to_dictionary(text):\n",
    "    it = iter(text)\n",
    "    create_dict = dict(zip(it, it))\n",
    "    return create_dict\n",
    "\n",
    "text_dict = convert_text_to_dictionary(text_list)\n",
    "#print(text_dict)"
   ]
  },
  {
   "cell_type": "markdown",
   "metadata": {},
   "source": [
    "PARSE SINGLE ABSTRACT WITH NON-INDEXED AUTHORS LIST"
   ]
  },
  {
   "cell_type": "code",
   "execution_count": 90,
   "metadata": {},
   "outputs": [],
   "source": [
    "abstract = text_dict['P123']\n",
    "#abstract"
   ]
  },
  {
   "cell_type": "code",
   "execution_count": 77,
   "metadata": {},
   "outputs": [
    {
     "data": {
      "text/plain": [
       "'THE USE OF TUMOR NECROSIS FACTOR INHIBITORS (TNF) IN THE SECONDLINE BIOLOGIC/SMALL MOLECULE SETTING: A CROSSSPECIALTY COMPARISON Lynn Price, Jennifer Robinson, Gianna Melendez Spherix Global Insights '"
      ]
     },
     "execution_count": 77,
     "metadata": {},
     "output_type": "execute_result"
    }
   ],
   "source": [
    "abstract_info = re.findall(r\"\\w+[A-Z\\w+]\\w+.*(?=TNF\\stherapy.*)\", abstract)\n",
    "abstract_head = str(abstract_info[0])\n",
    "abstract_head"
   ]
  },
  {
   "cell_type": "code",
   "execution_count": 78,
   "metadata": {},
   "outputs": [
    {
     "data": {
      "text/plain": [
       "'Lynn Price, Jennifer Robinson, Gianna Melendez Spherix Global Insights '"
      ]
     },
     "execution_count": 78,
     "metadata": {},
     "output_type": "execute_result"
    }
   ],
   "source": [
    "authors_info = re.findall(r\"\\w+[^A-Z\\d)\\W]\\s\\w.*(?=TNF\\stherapy*)\", abstract)\n",
    "authors = str(authors_info[0])\n",
    "authors"
   ]
  },
  {
   "cell_type": "code",
   "execution_count": 79,
   "metadata": {},
   "outputs": [
    {
     "data": {
      "text/plain": [
       "['Lynn Price', ' Jennifer Robinson', ' Gianna Melendez ']"
      ]
     },
     "execution_count": 79,
     "metadata": {},
     "output_type": "execute_result"
    }
   ],
   "source": [
    "author_name = re.findall(r\"\\w.+(?=Spherix)\", authors)\n",
    "author_name\n",
    "author_list = [x for x in author_name[0].split(',')]\n",
    "author_list"
   ]
  },
  {
   "cell_type": "code",
   "execution_count": 80,
   "metadata": {},
   "outputs": [
    {
     "data": {
      "text/plain": [
       "['Spherix Global Insights ']"
      ]
     },
     "execution_count": 80,
     "metadata": {},
     "output_type": "execute_result"
    }
   ],
   "source": [
    "author_location = re.findall(r\"Spherix[^*]+\", authors)\n",
    "author_location"
   ]
  },
  {
   "cell_type": "code",
   "execution_count": 81,
   "metadata": {},
   "outputs": [
    {
     "data": {
      "text/plain": [
       "['THE USE OF TUMOR NECROSIS FACTOR INHIBITORS (TNF) IN THE SECONDLINE BIOLOGIC/SMALL MOLECULE SETTING: A CROSSSPECIALTY COMPARISON ']"
      ]
     },
     "execution_count": 81,
     "metadata": {},
     "output_type": "execute_result"
    }
   ],
   "source": [
    "pattern = re.compile(r\"\\w+[^A-Z\\d\\W]\\s\\w.*\")\n",
    "abstract_title = [re.sub(pattern, \"\", i) for i in abstract_info]\n",
    "abstract_title"
   ]
  },
  {
   "cell_type": "code",
   "execution_count": 89,
   "metadata": {},
   "outputs": [],
   "source": [
    "abstract_text = re.findall(r\"(TNF\\stherapy.*)\", abstract)\n",
    "#abstract_text"
   ]
  },
  {
   "cell_type": "code",
   "execution_count": 22,
   "metadata": {},
   "outputs": [],
   "source": [
    "import pandas as pd\n",
    "\n",
    "df = pd.DataFrame({\"About the person\": 'Name (incl. titles if any mentioned)',\n",
    "                   \"Unnamed: 1\": 'Affiliation(s) Name(s)',\n",
    "                   \"Unnamed: 2\": \"Person's Location\",\n",
    "                   \"About the session/topic\": \"Session Name\",\n",
    "                   \"Unnamed: 4\": 'Topic Title',\n",
    "                   \"Unnamed: 5\": 'Presentation Abstract'}, index=[0])"
   ]
  },
  {
   "cell_type": "code",
   "execution_count": 87,
   "metadata": {},
   "outputs": [
    {
     "data": {
      "text/html": [
       "<div>\n",
       "<style scoped>\n",
       "    .dataframe tbody tr th:only-of-type {\n",
       "        vertical-align: middle;\n",
       "    }\n",
       "\n",
       "    .dataframe tbody tr th {\n",
       "        vertical-align: top;\n",
       "    }\n",
       "\n",
       "    .dataframe thead th {\n",
       "        text-align: right;\n",
       "    }\n",
       "</style>\n",
       "<table border=\"1\" class=\"dataframe\">\n",
       "  <thead>\n",
       "    <tr style=\"text-align: right;\">\n",
       "      <th></th>\n",
       "      <th>About the person</th>\n",
       "      <th>Unnamed: 1</th>\n",
       "      <th>Unnamed: 2</th>\n",
       "      <th>About the session/topic</th>\n",
       "      <th>Unnamed: 4</th>\n",
       "      <th>Unnamed: 5</th>\n",
       "    </tr>\n",
       "  </thead>\n",
       "  <tbody>\n",
       "    <tr>\n",
       "      <th>0</th>\n",
       "      <td>Gianna Melendez</td>\n",
       "      <td>Spherix Global Insights</td>\n",
       "      <td></td>\n",
       "      <td>P123</td>\n",
       "      <td>THE USE OF TUMOR NECROSIS FACTOR INHIBITORS (T...</td>\n",
       "      <td>TNF therapy has been the standard of care for ...</td>\n",
       "    </tr>\n",
       "  </tbody>\n",
       "</table>\n",
       "</div>"
      ],
      "text/plain": [
       "    About the person                Unnamed: 1 Unnamed: 2  \\\n",
       "0   Gianna Melendez   Spherix Global Insights               \n",
       "\n",
       "  About the session/topic                                         Unnamed: 4  \\\n",
       "0                    P123  THE USE OF TUMOR NECROSIS FACTOR INHIBITORS (T...   \n",
       "\n",
       "                                          Unnamed: 5  \n",
       "0  TNF therapy has been the standard of care for ...  "
      ]
     },
     "execution_count": 87,
     "metadata": {},
     "output_type": "execute_result"
    }
   ],
   "source": [
    "df1 = pd.DataFrame({\"About the person\": author_list[2],\n",
    "                   \"Unnamed: 1\": author_location,\n",
    "                   \"Unnamed: 2\": \"\",\n",
    "                   \"About the session/topic\": \"P123\",\n",
    "                   \"Unnamed: 4\": abstract_title,\n",
    "                   \"Unnamed: 5\": abstract_text})\n",
    "df1"
   ]
  },
  {
   "cell_type": "markdown",
   "metadata": {},
   "source": [
    "PARSE SINGLE ABSTRACT WITH INDEXED AUTHORS LIST"
   ]
  },
  {
   "cell_type": "code",
   "execution_count": 357,
   "metadata": {},
   "outputs": [],
   "source": [
    "abstract = text_dict['P120']\n",
    "#abstract"
   ]
  },
  {
   "cell_type": "code",
   "execution_count": 358,
   "metadata": {},
   "outputs": [
    {
     "data": {
      "text/plain": [
       "'TILDRAKIZUMAB EFFICACY OVER TIME BY WEEK 28 RESPONSE LEVELS IN TWO PHASE 3 CLINICAL TRIALS IN PATIENTS WITH CHRONIC PLAQUE PSORIASIS Andrew Blauvelt1, Howard Sofen3, Kim Papp3, Melinda Goodeham4, Yang Zhao5, Simon Lowry5, Jeff Parno5, Qing Li6, Carmen La Rosa6, Kristian Reich7 1Oregon Medical Research Center, Portland, OR, 2Department of Medicine (Dermatology) UCLA, Los Angeles, CA, USA, 3Probity Medical Research, 49 Waterloo, ON, 4Skin Centre for Dermatology, Peterborough, ON, Canada, 5Sun Pharmaceuticals, Princeton, NJ, 6Merck & Co., Inc., Kenilworth, NJ, USA, 7SCIderm Research Institute and Dermatologikum Hamburg, Haburg, Germany '"
      ]
     },
     "execution_count": 358,
     "metadata": {},
     "output_type": "execute_result"
    }
   ],
   "source": [
    "abstract_info = re.findall(r\"\\w+[A-Z\\w+]\\w+.*(?=Introduction.*)\", abstract)\n",
    "abstract_head = str(abstract_info[0])\n",
    "abstract_head"
   ]
  },
  {
   "cell_type": "code",
   "execution_count": 359,
   "metadata": {},
   "outputs": [
    {
     "data": {
      "text/plain": [
       "'Andrew Blauvelt1, Howard Sofen3, Kim Papp3, Melinda Goodeham4, Yang Zhao5, Simon Lowry5, Jeff Parno5, Qing Li6, Carmen La Rosa6, Kristian Reich7 1Oregon Medical Research Center, Portland, OR, 2Department of Medicine (Dermatology) UCLA, Los Angeles, CA, USA, 3Probity Medical Research, 49 Waterloo, ON, 4Skin Centre for Dermatology, Peterborough, ON, Canada, 5Sun Pharmaceuticals, Princeton, NJ, 6Merck & Co., Inc., Kenilworth, NJ, USA, 7SCIderm Research Institute and Dermatologikum Hamburg, Haburg, Germany '"
      ]
     },
     "execution_count": 359,
     "metadata": {},
     "output_type": "execute_result"
    }
   ],
   "source": [
    "authors_info = re.findall(r\"\\w+[^A-Z\\d)\\W]\\s\\w.*(?=Introduction.*)\", abstract)\n",
    "authors = str(authors_info[0])\n",
    "authors"
   ]
  },
  {
   "cell_type": "code",
   "execution_count": 360,
   "metadata": {},
   "outputs": [
    {
     "data": {
      "text/plain": [
       "['Andrew Blauvelt1',\n",
       " 'Howard Sofen3',\n",
       " 'Kim Papp3',\n",
       " 'Melinda Goodeham4',\n",
       " 'Yang Zhao5',\n",
       " 'Simon Lowry5',\n",
       " 'Jeff Parno5',\n",
       " 'Qing Li6',\n",
       " 'Carmen La Rosa6',\n",
       " 'Kristian Reich7']"
      ]
     },
     "execution_count": 360,
     "metadata": {},
     "output_type": "execute_result"
    }
   ],
   "source": [
    "author_name = re.findall(r\"(\\w+.\\s[a-zA-z\\s-]+\\d)\", authors)\n",
    "author_name"
   ]
  },
  {
   "cell_type": "code",
   "execution_count": 361,
   "metadata": {},
   "outputs": [
    {
     "data": {
      "text/plain": [
       "['1Oregon Medical Research Center, Portland, OR, ',\n",
       " '2Department of Medicine (Dermatology) UCLA, Los Angeles, CA, USA, ',\n",
       " '3Probity Medical Research, ',\n",
       " '49 Waterloo, ON, ',\n",
       " '4Skin Centre for Dermatology, Peterborough, ON, Canada, ',\n",
       " '5Sun Pharmaceuticals, Princeton, NJ, ',\n",
       " '6Merck & Co., Inc., Kenilworth, NJ, USA, ',\n",
       " '7SCIderm Research Institute and Dermatologikum Hamburg, Haburg, Germany ']"
      ]
     },
     "execution_count": 361,
     "metadata": {},
     "output_type": "execute_result"
    }
   ],
   "source": [
    "author_location = re.findall(r\"(\\d\\w+\\W[a-zA-z-'\\s&,\\s.,(A-Z)]+)\", authors)\n",
    "author_location"
   ]
  },
  {
   "cell_type": "code",
   "execution_count": 98,
   "metadata": {},
   "outputs": [],
   "source": [
    "import string\n",
    "from collections import namedtuple\n",
    "\n",
    "DigitGroup = namedtuple('DigitGroup', ['keys', 'values'])\n",
    "\n",
    "def combine(all_keys, all_values):\n",
    "    by_digit = {}\n",
    "\n",
    "    for word in all_keys:\n",
    "        for char in word:\n",
    "            if char in string.digits:\n",
    "                group = by_digit.get(char)\n",
    "                if not group:\n",
    "                    group = DigitGroup(word, [])\n",
    "                by_digit[char] = group\n",
    "                break\n",
    "\n",
    "    for word in all_values:\n",
    "        for char in word:\n",
    "            if char in string.digits:\n",
    "                group = by_digit[char]\n",
    "                group.values.append(word)\n",
    "                break\n",
    "    \n",
    "    return dict(by_digit.values())"
   ]
  },
  {
   "cell_type": "code",
   "execution_count": 362,
   "metadata": {},
   "outputs": [
    {
     "data": {
      "text/plain": [
       "{'1Oregon Medical Research Center, Portland, OR, ': ['Andrew Blauvelt1'],\n",
       " '2Department of Medicine (Dermatology) UCLA, Los Angeles, CA, USA, ': [],\n",
       " '3Probity Medical Research, ': ['Howard Sofen3', 'Kim Papp3'],\n",
       " '49 Waterloo, ON, ': ['Melinda Goodeham4'],\n",
       " '5Sun Pharmaceuticals, Princeton, NJ, ': ['Yang Zhao5',\n",
       "  'Simon Lowry5',\n",
       "  'Jeff Parno5'],\n",
       " '6Merck & Co., Inc., Kenilworth, NJ, USA, ': ['Qing Li6', 'Carmen La Rosa6'],\n",
       " '7SCIderm Research Institute and Dermatologikum Hamburg, Haburg, Germany ': ['Kristian Reich7']}"
      ]
     },
     "execution_count": 362,
     "metadata": {},
     "output_type": "execute_result"
    }
   ],
   "source": [
    "combined_dict = combine(author_location, author_name)\n",
    "combined_dict"
   ]
  },
  {
   "cell_type": "code",
   "execution_count": 363,
   "metadata": {},
   "outputs": [
    {
     "data": {
      "text/plain": [
       "[{'1Oregon Medical Research Center, Portland, OR, ': ['Andrew Blauvelt1']},\n",
       " {'2Department of Medicine (Dermatology) UCLA, Los Angeles, CA, USA, ': []},\n",
       " {'3Probity Medical Research, ': ['Howard Sofen3', 'Kim Papp3']},\n",
       " {'49 Waterloo, ON, ': ['Melinda Goodeham4']},\n",
       " {'5Sun Pharmaceuticals, Princeton, NJ, ': ['Yang Zhao5',\n",
       "   'Simon Lowry5',\n",
       "   'Jeff Parno5']},\n",
       " {'6Merck & Co., Inc., Kenilworth, NJ, USA, ': ['Qing Li6',\n",
       "   'Carmen La Rosa6']},\n",
       " {'7SCIderm Research Institute and Dermatologikum Hamburg, Haburg, Germany ': ['Kristian Reich7']}]"
      ]
     },
     "execution_count": 363,
     "metadata": {},
     "output_type": "execute_result"
    }
   ],
   "source": [
    "list_of_dict = [{k: v} for k, v in combined_dict.items()]\n",
    "list_of_dict"
   ]
  },
  {
   "cell_type": "code",
   "execution_count": 400,
   "metadata": {},
   "outputs": [
    {
     "data": {
      "text/plain": [
       "['Kristian Reich7']"
      ]
     },
     "execution_count": 400,
     "metadata": {},
     "output_type": "execute_result"
    }
   ],
   "source": [
    "import itertools\n",
    "\n",
    "i = list_of_dict[6]\n",
    "get_key = i.keys()\n",
    "names = [] \n",
    "for key, value in ( \n",
    "        itertools.chain.from_iterable( \n",
    "            [itertools.product((k, ), v) for k, v in i.items()])): \n",
    "                names.append(value)\n",
    "names"
   ]
  },
  {
   "cell_type": "code",
   "execution_count": 401,
   "metadata": {},
   "outputs": [
    {
     "name": "stdout",
     "output_type": "stream",
     "text": [
      "['Kristian Reich']\n",
      "['SCIderm Research Institute and Dermatologikum Hamburg, Haburg, Germany ']\n"
     ]
    }
   ],
   "source": [
    "name = [re.sub(r'[0-9]', '', i) for i in names]\n",
    "print(name)\n",
    "location = [re.sub(r'[0-9]', '', i) for i in get_key]\n",
    "print(location)"
   ]
  },
  {
   "cell_type": "code",
   "execution_count": 366,
   "metadata": {},
   "outputs": [
    {
     "data": {
      "text/plain": [
       "['TILDRAKIZUMAB EFFICACY OVER TIME BY WEEK 28 RESPONSE LEVELS IN TWO PHASE 3 CLINICAL TRIALS IN PATIENTS WITH CHRONIC PLAQUE PSORIASIS ']"
      ]
     },
     "execution_count": 366,
     "metadata": {},
     "output_type": "execute_result"
    }
   ],
   "source": [
    "pattern = re.compile(r\"\\w+[^A-Z\\d\\W]\\s\\w.*\")\n",
    "abstract_title = [re.sub(pattern, \"\", i) for i in abstract_info]\n",
    "abstract_title"
   ]
  },
  {
   "cell_type": "code",
   "execution_count": 367,
   "metadata": {},
   "outputs": [],
   "source": [
    "abstract_text = re.findall(r\"(Introduction.*)\", abstract)\n",
    "#abstract_text"
   ]
  },
  {
   "cell_type": "code",
   "execution_count": 402,
   "metadata": {},
   "outputs": [
    {
     "data": {
      "text/html": [
       "<div>\n",
       "<style scoped>\n",
       "    .dataframe tbody tr th:only-of-type {\n",
       "        vertical-align: middle;\n",
       "    }\n",
       "\n",
       "    .dataframe tbody tr th {\n",
       "        vertical-align: top;\n",
       "    }\n",
       "\n",
       "    .dataframe thead th {\n",
       "        text-align: right;\n",
       "    }\n",
       "</style>\n",
       "<table border=\"1\" class=\"dataframe\">\n",
       "  <thead>\n",
       "    <tr style=\"text-align: right;\">\n",
       "      <th></th>\n",
       "      <th>About the person</th>\n",
       "      <th>Unnamed: 1</th>\n",
       "      <th>Unnamed: 2</th>\n",
       "      <th>About the session/topic</th>\n",
       "      <th>Unnamed: 4</th>\n",
       "      <th>Unnamed: 5</th>\n",
       "    </tr>\n",
       "  </thead>\n",
       "  <tbody>\n",
       "    <tr>\n",
       "      <th>0</th>\n",
       "      <td>Kristian Reich</td>\n",
       "      <td>SCIderm Research Institute and Dermatologikum ...</td>\n",
       "      <td></td>\n",
       "      <td>P120</td>\n",
       "      <td>TILDRAKIZUMAB EFFICACY OVER TIME BY WEEK 28 RE...</td>\n",
       "      <td>Introduction: Tildrakizumab (TIL), a humanized...</td>\n",
       "    </tr>\n",
       "  </tbody>\n",
       "</table>\n",
       "</div>"
      ],
      "text/plain": [
       "  About the person                                         Unnamed: 1  \\\n",
       "0   Kristian Reich  SCIderm Research Institute and Dermatologikum ...   \n",
       "\n",
       "  Unnamed: 2 About the session/topic  \\\n",
       "0                               P120   \n",
       "\n",
       "                                          Unnamed: 4  \\\n",
       "0  TILDRAKIZUMAB EFFICACY OVER TIME BY WEEK 28 RE...   \n",
       "\n",
       "                                          Unnamed: 5  \n",
       "0  Introduction: Tildrakizumab (TIL), a humanized...  "
      ]
     },
     "execution_count": 402,
     "metadata": {},
     "output_type": "execute_result"
    }
   ],
   "source": [
    "import pandas as pd\n",
    "df2 = pd.DataFrame({\"About the person\": name[0],\n",
    "                   \"Unnamed: 1\": location,\n",
    "                   \"Unnamed: 2\": \"\",\n",
    "                   \"About the session/topic\": \"P120\",\n",
    "                   \"Unnamed: 4\": abstract_title,\n",
    "                   \"Unnamed: 5\": abstract_text})\n",
    "df2"
   ]
  },
  {
   "cell_type": "code",
   "execution_count": 25,
   "metadata": {},
   "outputs": [],
   "source": [
    "df = pd.read_excel('/home/azashiro/Desktop/Datas.xlsx')"
   ]
  },
  {
   "cell_type": "code",
   "execution_count": 403,
   "metadata": {},
   "outputs": [
    {
     "data": {
      "text/html": [
       "<div>\n",
       "<style scoped>\n",
       "    .dataframe tbody tr th:only-of-type {\n",
       "        vertical-align: middle;\n",
       "    }\n",
       "\n",
       "    .dataframe tbody tr th {\n",
       "        vertical-align: top;\n",
       "    }\n",
       "\n",
       "    .dataframe thead th {\n",
       "        text-align: right;\n",
       "    }\n",
       "</style>\n",
       "<table border=\"1\" class=\"dataframe\">\n",
       "  <thead>\n",
       "    <tr style=\"text-align: right;\">\n",
       "      <th></th>\n",
       "      <th>About the person</th>\n",
       "      <th>Unnamed: 1</th>\n",
       "      <th>Unnamed: 2</th>\n",
       "      <th>About the session/topic</th>\n",
       "      <th>Unnamed: 4</th>\n",
       "      <th>Unnamed: 5</th>\n",
       "    </tr>\n",
       "  </thead>\n",
       "  <tbody>\n",
       "    <tr>\n",
       "      <th>0</th>\n",
       "      <td>Name (incl. titles if any mentioned)</td>\n",
       "      <td>Affiliation(s) Name(s)</td>\n",
       "      <td>Person's Location</td>\n",
       "      <td>Session Name</td>\n",
       "      <td>Topic Title</td>\n",
       "      <td>Presentation Abstract</td>\n",
       "    </tr>\n",
       "    <tr>\n",
       "      <th>1</th>\n",
       "      <td>Zhu Shen</td>\n",
       "      <td>Institute of Dermatology and Venereology, Sich...</td>\n",
       "      <td>NaN</td>\n",
       "      <td>P100</td>\n",
       "      <td>IMMUNOLOGICAL MEMORY EXISTS IN THE RECURRENT L...</td>\n",
       "      <td>Introduction: Psoriasis usually recurs in prev...</td>\n",
       "    </tr>\n",
       "    <tr>\n",
       "      <th>2</th>\n",
       "      <td>Touraj Khosravi-Hafshejani</td>\n",
       "      <td>Department of Undergraduate Medical Program, F...</td>\n",
       "      <td>NaN</td>\n",
       "      <td>P102</td>\n",
       "      <td>THE IMMUNEPHENOTYPE OF SMALL PLAQUE PSORIASIS</td>\n",
       "      <td>Introduction: Small plaque psoriasis (SPP) is ...</td>\n",
       "    </tr>\n",
       "    <tr>\n",
       "      <th>3</th>\n",
       "      <td>Jan Dutz</td>\n",
       "      <td>Department of Undergraduate Medical Program, F...</td>\n",
       "      <td>NaN</td>\n",
       "      <td>P102</td>\n",
       "      <td>THE IMMUNEPHENOTYPE OF SMALL PLAQUE PSORIASIS</td>\n",
       "      <td>Introduction: Small plaque psoriasis (SPP) is ...</td>\n",
       "    </tr>\n",
       "    <tr>\n",
       "      <th>4</th>\n",
       "      <td>Mehran Ghoreishi</td>\n",
       "      <td>Department of Dermatology, and Skin Science</td>\n",
       "      <td>NaN</td>\n",
       "      <td>P102</td>\n",
       "      <td>THE IMMUNEPHENOTYPE OF SMALL PLAQUE PSORIASIS</td>\n",
       "      <td>Introduction: Small plaque psoriasis (SPP) is ...</td>\n",
       "    </tr>\n",
       "    <tr>\n",
       "      <th>...</th>\n",
       "      <td>...</td>\n",
       "      <td>...</td>\n",
       "      <td>...</td>\n",
       "      <td>...</td>\n",
       "      <td>...</td>\n",
       "      <td>...</td>\n",
       "    </tr>\n",
       "    <tr>\n",
       "      <th>116</th>\n",
       "      <td>Simon Lowry</td>\n",
       "      <td>Sun Pharmaceuticals, Princeton, NJ,</td>\n",
       "      <td></td>\n",
       "      <td>P120</td>\n",
       "      <td>TILDRAKIZUMAB EFFICACY OVER TIME BY WEEK 28 RE...</td>\n",
       "      <td>Introduction: Tildrakizumab (TIL), a humanized...</td>\n",
       "    </tr>\n",
       "    <tr>\n",
       "      <th>117</th>\n",
       "      <td>Jeff Parno</td>\n",
       "      <td>Sun Pharmaceuticals, Princeton, NJ,</td>\n",
       "      <td></td>\n",
       "      <td>P120</td>\n",
       "      <td>TILDRAKIZUMAB EFFICACY OVER TIME BY WEEK 28 RE...</td>\n",
       "      <td>Introduction: Tildrakizumab (TIL), a humanized...</td>\n",
       "    </tr>\n",
       "    <tr>\n",
       "      <th>118</th>\n",
       "      <td>Qing Li</td>\n",
       "      <td>Merck &amp; Co., Inc., Kenilworth, NJ, USA,</td>\n",
       "      <td></td>\n",
       "      <td>P120</td>\n",
       "      <td>TILDRAKIZUMAB EFFICACY OVER TIME BY WEEK 28 RE...</td>\n",
       "      <td>Introduction: Tildrakizumab (TIL), a humanized...</td>\n",
       "    </tr>\n",
       "    <tr>\n",
       "      <th>119</th>\n",
       "      <td>Carmen La Rosa</td>\n",
       "      <td>Merck &amp; Co., Inc., Kenilworth, NJ, USA,</td>\n",
       "      <td></td>\n",
       "      <td>P120</td>\n",
       "      <td>TILDRAKIZUMAB EFFICACY OVER TIME BY WEEK 28 RE...</td>\n",
       "      <td>Introduction: Tildrakizumab (TIL), a humanized...</td>\n",
       "    </tr>\n",
       "    <tr>\n",
       "      <th>120</th>\n",
       "      <td>Kristian Reich</td>\n",
       "      <td>SCIderm Research Institute and Dermatologikum ...</td>\n",
       "      <td></td>\n",
       "      <td>P120</td>\n",
       "      <td>TILDRAKIZUMAB EFFICACY OVER TIME BY WEEK 28 RE...</td>\n",
       "      <td>Introduction: Tildrakizumab (TIL), a humanized...</td>\n",
       "    </tr>\n",
       "  </tbody>\n",
       "</table>\n",
       "<p>121 rows × 6 columns</p>\n",
       "</div>"
      ],
      "text/plain": [
       "                         About the person  \\\n",
       "0    Name (incl. titles if any mentioned)   \n",
       "1                               Zhu Shen    \n",
       "2              Touraj Khosravi-Hafshejani   \n",
       "3                                Jan Dutz   \n",
       "4                        Mehran Ghoreishi   \n",
       "..                                    ...   \n",
       "116                           Simon Lowry   \n",
       "117                            Jeff Parno   \n",
       "118                               Qing Li   \n",
       "119                        Carmen La Rosa   \n",
       "120                        Kristian Reich   \n",
       "\n",
       "                                            Unnamed: 1         Unnamed: 2  \\\n",
       "0                               Affiliation(s) Name(s)  Person's Location   \n",
       "1    Institute of Dermatology and Venereology, Sich...                NaN   \n",
       "2    Department of Undergraduate Medical Program, F...                NaN   \n",
       "3    Department of Undergraduate Medical Program, F...                NaN   \n",
       "4          Department of Dermatology, and Skin Science                NaN   \n",
       "..                                                 ...                ...   \n",
       "116               Sun Pharmaceuticals, Princeton, NJ,                       \n",
       "117               Sun Pharmaceuticals, Princeton, NJ,                       \n",
       "118           Merck & Co., Inc., Kenilworth, NJ, USA,                       \n",
       "119           Merck & Co., Inc., Kenilworth, NJ, USA,                       \n",
       "120  SCIderm Research Institute and Dermatologikum ...                      \n",
       "\n",
       "    About the session/topic  \\\n",
       "0              Session Name   \n",
       "1                      P100   \n",
       "2                      P102   \n",
       "3                      P102   \n",
       "4                      P102   \n",
       "..                      ...   \n",
       "116                    P120   \n",
       "117                    P120   \n",
       "118                    P120   \n",
       "119                    P120   \n",
       "120                    P120   \n",
       "\n",
       "                                            Unnamed: 4  \\\n",
       "0                                          Topic Title   \n",
       "1    IMMUNOLOGICAL MEMORY EXISTS IN THE RECURRENT L...   \n",
       "2       THE IMMUNEPHENOTYPE OF SMALL PLAQUE PSORIASIS    \n",
       "3       THE IMMUNEPHENOTYPE OF SMALL PLAQUE PSORIASIS    \n",
       "4       THE IMMUNEPHENOTYPE OF SMALL PLAQUE PSORIASIS    \n",
       "..                                                 ...   \n",
       "116  TILDRAKIZUMAB EFFICACY OVER TIME BY WEEK 28 RE...   \n",
       "117  TILDRAKIZUMAB EFFICACY OVER TIME BY WEEK 28 RE...   \n",
       "118  TILDRAKIZUMAB EFFICACY OVER TIME BY WEEK 28 RE...   \n",
       "119  TILDRAKIZUMAB EFFICACY OVER TIME BY WEEK 28 RE...   \n",
       "120  TILDRAKIZUMAB EFFICACY OVER TIME BY WEEK 28 RE...   \n",
       "\n",
       "                                            Unnamed: 5  \n",
       "0                                Presentation Abstract  \n",
       "1    Introduction: Psoriasis usually recurs in prev...  \n",
       "2    Introduction: Small plaque psoriasis (SPP) is ...  \n",
       "3    Introduction: Small plaque psoriasis (SPP) is ...  \n",
       "4    Introduction: Small plaque psoriasis (SPP) is ...  \n",
       "..                                                 ...  \n",
       "116  Introduction: Tildrakizumab (TIL), a humanized...  \n",
       "117  Introduction: Tildrakizumab (TIL), a humanized...  \n",
       "118  Introduction: Tildrakizumab (TIL), a humanized...  \n",
       "119  Introduction: Tildrakizumab (TIL), a humanized...  \n",
       "120  Introduction: Tildrakizumab (TIL), a humanized...  \n",
       "\n",
       "[121 rows x 6 columns]"
      ]
     },
     "execution_count": 403,
     "metadata": {},
     "output_type": "execute_result"
    }
   ],
   "source": [
    "df73 = df72.append(df2, ignore_index=True)\n",
    "df73"
   ]
  },
  {
   "cell_type": "code",
   "execution_count": 405,
   "metadata": {},
   "outputs": [],
   "source": [
    "'''Import pandas DataFrame into Excel file'''\n",
    "\n",
    "excel_file = df73.to_excel(\"/home/azashiro/Desktop/beetroot_task/Datas.xlsx\", index=False)\n",
    "excel_file"
   ]
  },
  {
   "cell_type": "code",
   "execution_count": null,
   "metadata": {},
   "outputs": [],
   "source": []
  }
 ],
 "metadata": {
  "kernelspec": {
   "display_name": "Python 3",
   "language": "python",
   "name": "python3"
  },
  "language_info": {
   "codemirror_mode": {
    "name": "ipython",
    "version": 3
   },
   "file_extension": ".py",
   "mimetype": "text/x-python",
   "name": "python",
   "nbconvert_exporter": "python",
   "pygments_lexer": "ipython3",
   "version": "3.8.5"
  }
 },
 "nbformat": 4,
 "nbformat_minor": 4
}
